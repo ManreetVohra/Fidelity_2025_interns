{
 "cells": [
  {
   "cell_type": "code",
   "execution_count": null,
   "metadata": {},
   "outputs": [
    {
     "data": {
      "text/plain": [
       "No. of lines 4\n",
       "No. of characters is 24\n",
       "No. of words are 8\n"
      ]
     },
     "metadata": {},
     "output_type": "display_data"
    }
   ],
   "source": [
    "#Program to find number of lines, characters and words in a file \n",
    "file=open(\"hello.txt\",\"r\")\n",
    "\n",
    "x=file.readlines()\n",
    "\n",
    "print(\"No. of lines\",len(x))\n",
    "# print(x)\n",
    "\n",
    "sum=0  \n",
    "for i in range(len(x)):\n",
    "    # print(x[i])\n",
    "    sum+=len(x[i])-1\n",
    "\n",
    "print(f'No. of characters is {sum}')\n",
    "\n",
    "file.seek(0)\n",
    "\n",
    "words=0\n",
    "for i in file.readline():\n",
    "    words_in_line=i.split(\" \")\n",
    "    words+=len(words_in_line)\n",
    "\n",
    "print(f'No. of words are {words}')\n",
    "\n",
    "file.close()"
   ]
  },
  {
   "cell_type": "code",
   "execution_count": 1,
   "metadata": {},
   "outputs": [
    {
     "name": "stdout",
     "output_type": "stream",
     "text": [
      "basics.py\n",
      "check_restapis.py\n",
      "csv_practice.py\n",
      "demolog.py\n",
      "fidelity_ds.py\n",
      "fidelity_prg.py\n",
      "fielity.py\n",
      "filehandling.py\n",
      "fileprocessing.py\n",
      "os.py\n",
      "readbin.py\n",
      "regix.py\n",
      "serialization.py\n",
      "synchronise.py\n",
      "tempCodeRunnerFile.py\n",
      "thread.py\n",
      "url.py\n",
      "constructor_overloading.py\n",
      "isa+hasa.py\n",
      "is_a.py\n",
      "multiple_inheritance.py\n",
      "overriding.py\n",
      "std.py\n",
      "str.py\n",
      "task.py\n",
      "task2.py\n",
      "test.py\n",
      "test1.py\n"
     ]
    }
   ],
   "source": [
    "# usage of walk is to recursively track all the files and folders\n",
    "import os\n",
    "\n",
    "path=input(\"Enter the path: \")\n",
    "for dirpath,dir,file in os.walk(path):\n",
    "    for i in file:\n",
    "        if i.endswith(\".py\"):\n",
    "            print(i)"
   ]
  },
  {
   "cell_type": "code",
   "execution_count": 3,
   "metadata": {},
   "outputs": [
    {
     "name": "stdout",
     "output_type": "stream",
     "text": [
      "[['Name', 'Age', 'City'], ['John', '25', 'New York'], ['Alice', '30', 'Los Angeles']]\n"
     ]
    }
   ],
   "source": [
    "# CSV(Comma-Seperated Values) is a format to store files \n",
    "\n",
    "import csv\n",
    "\n",
    "data = [\n",
    "    [\"Name\", \"Age\", \"City\"],\n",
    "    [\"John\", 25, \"New York\"],\n",
    "    [\"Alice\", 30, \"Los Angeles\"]\n",
    "]\n",
    "\n",
    "with open(\"data.csv\", mode=\"w\", newline=\"\") as file:\n",
    "    writer = csv.writer(file)\n",
    "    writer.writerows(data)\n",
    "\n",
    "with open(\"data.csv\",\"r\") as f:\n",
    "    o=csv.reader(f)         #returns object\n",
    "    print(list(o))"
   ]
  },
  {
   "cell_type": "code",
   "execution_count": 30,
   "metadata": {},
   "outputs": [
    {
     "name": "stdout",
     "output_type": "stream",
     "text": [
      "{'a':10,'b':20}\n",
      "{'x':20,'y':30}\n"
     ]
    }
   ],
   "source": [
    "import pickle\n",
    "\n",
    "file=open(\"task.dat\",\"ab\")\n",
    "\n",
    "with open(\"task.txt\",\"r\") as f:\n",
    "    combined=\"\"\n",
    "    in_dict=False\n",
    "    for i in f:\n",
    "        line=i.strip()\n",
    "        if line.startswith('{'):\n",
    "            combined+=line\n",
    "            in_dict=True\n",
    "        elif in_dict==True:\n",
    "            combined+=line\n",
    "            if line.endswith('}'):\n",
    "                in_dict=False\n",
    "                # print(str)\n",
    "                if isinstance(eval(combined),dict):\n",
    "                    pickle.dump(combined,file)\n",
    "                combined=\"\"\n",
    "\n",
    "file.close()\n",
    "\n",
    "with open(\"task.dat\", \"rb\") as f:\n",
    "    while True:\n",
    "        try:\n",
    "            d = pickle.load(f)  # Load one dictionary at a time\n",
    "            print(d)  # Print each dictionary\n",
    "        except EOFError:  # Stop when end of file is reached\n",
    "            break"
   ]
  },
  {
   "cell_type": "code",
   "execution_count": 34,
   "metadata": {},
   "outputs": [
    {
     "name": "stdout",
     "output_type": "stream",
     "text": [
      "[\"{'a':10,'b':20}\", \"{'x':20,'y':30}\"]\n"
     ]
    }
   ],
   "source": [
    "import re,pickle\n",
    "\n",
    "file=open(\"task.dat\",\"ab\")\n",
    "\n",
    "with open(\"task.txt\",\"r\") as f:\n",
    "    temp=\"\"\n",
    "    for i in f:\n",
    "        line=i.strip()    \n",
    "        temp+=line\n",
    "\n",
    "# print(str)\n",
    "\n",
    "pattern=r\"\\{\\s*(?:'[^']*'|\\\"[^\\\"]*\\\")\\s*:\\s*[^,{}]*(?:,\\s*(?:'[^']*'|\\\"[^\\\"]*\\\")\\s*:\\s*[^,{}]*)*\\s*\\}\"\n",
    "\n",
    "dictionaries=re.findall(pattern,temp)\n",
    "pickle.dump(dictionaries,file)\n",
    "\n",
    "file.close()\n",
    "\n",
    "with open(\"task.dat\", \"rb\") as f:\n",
    "    while True:\n",
    "        try:\n",
    "            d = pickle.load(f)  # Load one dictionary at a time\n",
    "            print(d)  # Print each dictionary\n",
    "        except EOFError:  # Stop when end of file is reached\n",
    "            break"
   ]
  },
  {
   "cell_type": "code",
   "execution_count": 20,
   "metadata": {},
   "outputs": [
    {
     "name": "stdout",
     "output_type": "stream",
     "text": [
      "25\n",
      "\n",
      "52\n",
      "\n",
      "2\n",
      "5\n",
      "2\n",
      "5\n",
      "25\n",
      "\n",
      "First 5.0679802894592285\n"
     ]
    }
   ],
   "source": [
    "from threading import *\n",
    "import time\n",
    "\n",
    "def power_of_2():\n",
    "    for i in range(1,6):\n",
    "        time.sleep(1)\n",
    "        print(\"2\")\n",
    "\n",
    "def power_of_5():\n",
    "    for i in range(1,6):\n",
    "        time.sleep(1)\n",
    "        print(\"5\")\n",
    "\n",
    "start_time1=time.time()\n",
    "t1=Thread(target=power_of_2)\n",
    "t2=Thread(target=power_of_5)\n",
    "t1.start()\n",
    "t2.start()\n",
    "t1.join()\n",
    "t2.join()\n",
    "end_time1=time.time()\n",
    "\n",
    "# power_of_2()\n",
    "# power_of_5()\n",
    "\n",
    "print(\"First\",end_time1-start_time1)"
   ]
  },
  {
   "cell_type": "code",
   "execution_count": 21,
   "metadata": {},
   "outputs": [
    {
     "name": "stdout",
     "output_type": "stream",
     "text": [
      "Good Morning "
     ]
    },
    {
     "name": "stdout",
     "output_type": "stream",
     "text": [
      "Steeve\n",
      "Good Morning Steeve\n",
      "Good Morning Steeve\n",
      "Good Morning Steeve\n",
      "Good Morning Steeve\n",
      "Good Morning Rahul\n",
      "Good Morning Rahul\n",
      "Good Morning Rahul\n",
      "Good Morning Rahul\n",
      "Good Morning Rahul\n"
     ]
    }
   ],
   "source": [
    "from threading import *\n",
    "import time\n",
    "\n",
    "l=Lock()\n",
    "def wish(name):\n",
    "    l.acquire()\n",
    "    for i in range(5):\n",
    "        print(\"Good Morning \",end=\"\")\n",
    "        time.sleep(2)\n",
    "        print(name)\n",
    "    l.release()\n",
    "\n",
    "t1=Thread(target=wish,args=(\"Steeve\",))\n",
    "t2=Thread(target=wish,args=(\"Rahul\",))\n",
    "t1.start()\n",
    "t2.start()"
   ]
  },
  {
   "cell_type": "code",
   "execution_count": 28,
   "metadata": {},
   "outputs": [
    {
     "name": "stdout",
     "output_type": "stream",
     "text": [
      "['https://fidelity//rest//v1.0.0', 'https://fidelity//rest//v1.2.3']\n"
     ]
    }
   ],
   "source": [
    "import re\n",
    "\n",
    "list=[]\n",
    "with open(\"rest.txt\",\"r\") as f:\n",
    "    pattern=r\"\\Ahttps://fidelity//rest//v[0-9][.]{1}[0-9][.]{1}[0-9]\"\n",
    "    for i in f:\n",
    "        line=i.strip()\n",
    "        if re.findall(pattern,i):\n",
    "            list.append(i.strip())\n",
    "\n",
    "print(list)"
   ]
  },
  {
   "cell_type": "code",
   "execution_count": null,
   "metadata": {},
   "outputs": [],
   "source": [
    "import logging\n",
    "\n",
    "logging.basicConfig(filename=\"log.txt\",level=logging.WARNING,filemode=\"a\")\n",
    "print(\"Logging Demo\")\n",
    "logging.debug(\"Demo information\")\n",
    "logging.info(\"info information\")\n",
    "logging.warning(\"warning information\")"
   ]
  }
 ],
 "metadata": {
  "kernelspec": {
   "display_name": "Python 3",
   "language": "python",
   "name": "python3"
  },
  "language_info": {
   "codemirror_mode": {
    "name": "ipython",
    "version": 3
   },
   "file_extension": ".py",
   "mimetype": "text/x-python",
   "name": "python",
   "nbconvert_exporter": "python",
   "pygments_lexer": "ipython3",
   "version": "3.12.1"
  }
 },
 "nbformat": 4,
 "nbformat_minor": 2
}
