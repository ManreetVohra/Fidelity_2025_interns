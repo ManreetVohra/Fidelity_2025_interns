{
 "cells": [
  {
   "cell_type": "code",
   "execution_count": 2,
   "metadata": {},
   "outputs": [
    {
     "name": "stdout",
     "output_type": "stream",
     "text": [
      "30\n"
     ]
    }
   ],
   "source": [
    "# Lambda\n",
    "add=lambda x,y: x+y\n",
    "print(add(10,20))"
   ]
  },
  {
   "cell_type": "code",
   "execution_count": 3,
   "metadata": {},
   "outputs": [
    {
     "name": "stdout",
     "output_type": "stream",
     "text": [
      "[110, 120, 130, 140, 150, 160]\n"
     ]
    }
   ],
   "source": [
    "price=[10,20,30,40,50,60]\n",
    "new_list=map(lambda x:x+100,price)\n",
    "print(list(new_list))"
   ]
  },
  {
   "cell_type": "code",
   "execution_count": 4,
   "metadata": {},
   "outputs": [
    {
     "name": "stdout",
     "output_type": "stream",
     "text": [
      "[24, 56, 78, 44]\n"
     ]
    }
   ],
   "source": [
    "age=[13,24,56,78,44]\n",
    "older=filter(lambda x:x>18,age)\n",
    "print(list(older))\n"
   ]
  },
  {
   "cell_type": "code",
   "execution_count": 1,
   "metadata": {},
   "outputs": [
    {
     "name": "stdout",
     "output_type": "stream",
     "text": [
      "key is not found\n"
     ]
    }
   ],
   "source": [
    "from collections import defaultdict\n",
    "\n",
    "def dv():\n",
    "    return \"key is not found\"\n",
    "\n",
    "d1=defaultdict(dv)\n",
    "\n",
    "d1['a']=10\n",
    "d1['b']=20\n",
    "print(d1['c'])"
   ]
  },
  {
   "cell_type": "code",
   "execution_count": 7,
   "metadata": {},
   "outputs": [
    {
     "name": "stdout",
     "output_type": "stream",
     "text": [
      "['9199456000', '9199456000']\n"
     ]
    }
   ],
   "source": [
    "import re,urllib\n",
    "import urllib.request\n",
    "u=urllib.request.urlopen(\"http://redbus.in/info/contactus\")\n",
    "t=u.read()\n",
    "redbus=str(t)\n",
    "pattern=r\"[0-9]{10}\"\n",
    "number=re.findall(pattern,redbus)\n",
    "print(number)"
   ]
  }
 ],
 "metadata": {
  "kernelspec": {
   "display_name": "Python 3",
   "language": "python",
   "name": "python3"
  },
  "language_info": {
   "codemirror_mode": {
    "name": "ipython",
    "version": 3
   },
   "file_extension": ".py",
   "mimetype": "text/x-python",
   "name": "python",
   "nbconvert_exporter": "python",
   "pygments_lexer": "ipython3",
   "version": "3.12.1"
  }
 },
 "nbformat": 4,
 "nbformat_minor": 2
}
