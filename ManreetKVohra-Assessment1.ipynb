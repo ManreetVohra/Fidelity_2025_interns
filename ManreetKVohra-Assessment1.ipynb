{
 "cells": [
  {
   "cell_type": "markdown",
   "metadata": {},
   "source": [
    "Name:Manreet Kaur Vohra\n",
    "A Id:A785696\n",
    "Email: manreetvohra22@hgmail.com"
   ]
  },
  {
   "cell_type": "code",
   "execution_count": 22,
   "metadata": {},
   "outputs": [
    {
     "name": "stdout",
     "output_type": "stream",
     "text": [
      "[' abc@gmail.com', ' hello@gmail.net']\n"
     ]
    }
   ],
   "source": [
    "#Ques2\n",
    "import re\n",
    "\n",
    "text = \"I know a set of email addresses that we can extract using expression1: hello@gmail.net abc.df@somecompany.co.uk, abc@gmail.com, xyz.ab@tpa.com, dfg.gh@dp.cp.net . But what about 11.234.abc.ghy@tp.edu, let's check.\"\n",
    "pattern1=r\" [A-Z a-z]+[^\\s.@#$]*@[A-Z a-z]+.com\"\n",
    "pattern2=r\" [A-Z a-z]+[^\\s.@#$]*@[A-Z a-z]+.in\"\n",
    "pattern3=r\" [A-Z a-z]+[^\\s.@#$]*@[A-Z a-z]+.uk\"\n",
    "pattern4=r\" [A-Z a-z]+[^\\s.@#$]*@[A-Z a-z]+.net\"\n",
    "\n",
    "a=re.findall(pattern1,text)\n",
    "b=re.findall(pattern2,text)\n",
    "if(len(b)>0):\n",
    "    a.extend(b)\n",
    "c=re.findall(pattern3,text)\n",
    "if(len(c)>0):\n",
    "    a.extend(c)\n",
    "d=re.findall(pattern4,text)\n",
    "if(len(d)>0):\n",
    "    a.extend(d)\n",
    "\n",
    "print(a)"
   ]
  },
  {
   "cell_type": "code",
   "execution_count": null,
   "metadata": {},
   "outputs": [
    {
     "name": "stdout",
     "output_type": "stream",
     "text": [
      "['data1.txt', 'data2.txt', 'data3.txt', 'questions.txt']\n"
     ]
    }
   ],
   "source": [
    "#Ques3  \n",
    "import os\n",
    "\n",
    "class TextFiles:\n",
    "    \"\"\"This is a class which is used to print all the text files in a drive\"\"\"\n",
    "    def __init__(self):\n",
    "        self.path=input(\"Enter the path: \")\n",
    "    def find_files(self):\n",
    "        list=[]\n",
    "        for dirpath,dir,file in os.walk(self.path):\n",
    "            for i in file:\n",
    "                if i.endswith(\".txt\"):\n",
    "                    list.append(i)\n",
    "        return list\n",
    "    \n",
    "file=TextFiles()\n",
    "print(file.find_files())"
   ]
  },
  {
   "cell_type": "code",
   "execution_count": 5,
   "metadata": {},
   "outputs": [
    {
     "name": "stdout",
     "output_type": "stream",
     "text": [
      "Number of files and folders are 11\n"
     ]
    }
   ],
   "source": [
    "#Ques6\n",
    "from threading import *\n",
    "import os\n",
    "\n",
    "l=Lock()\n",
    "\n",
    "l.acquire()\n",
    "def countfolders():\n",
    "    \"\"\"This is a function which is used to count the number of files and folders in a drive\"\"\"\n",
    "    count=0\n",
    "    for dirpath,dir,file in os.walk(\".\"):\n",
    "        for i in file:\n",
    "            count+=1\n",
    "        for j in dir:\n",
    "            count+=1\n",
    "    print(f'Number of files and folders are {count}')\n",
    "l.release()\n",
    "\n",
    "#  Making a thread and starting it\n",
    "t=Thread(target=countfolders) \n",
    "t.start()\n"
   ]
  },
  {
   "cell_type": "code",
   "execution_count": null,
   "metadata": {},
   "outputs": [
    {
     "name": "stdout",
     "output_type": "stream",
     "text": [
      "5 is found\n",
      "Time to run the code is 0.0010001659393310547\n"
     ]
    }
   ],
   "source": [
    "#Ques8\n",
    "import time\n",
    "\n",
    "def calculate_time(fun):\n",
    "    def wrapper(*arg):\n",
    "        start=time.time()\n",
    "        fun(*arg)\n",
    "        end=time.time()\n",
    "        total=end-start\n",
    "        print(f'Time to run the code is {total}')\n",
    "    return wrapper\n",
    "\n",
    "@calculate_time\n",
    "def bubble_sort(arr):\n",
    "    n = len(arr)\n",
    "    for i in range(n - 1):\n",
    "        flag = False\n",
    "        for j in range(n - i - 1):\n",
    "            if arr[j] > arr[j + 1]:\n",
    "                arr[j], arr[j + 1] = arr[j + 1], arr[j]\n",
    "                flag = True\n",
    "        if not flag:  \n",
    "            break\n",
    "    print(f'Sorted list is {arr}')\n",
    "\n",
    "@calculate_time\n",
    "def sequen_search(list,number):\n",
    "    flag=True\n",
    "    for i in list:\n",
    "        if(i==number):\n",
    "            print(f'{number} is found')\n",
    "            flag=False\n",
    "    if(flag==True):\n",
    "        print(f'{number} is not found')\n",
    "\n",
    "# bubble_sort([5,4,3,2,1])\n",
    "sequen_search([1,2,3,4,5],5)\n"
   ]
  },
  {
   "cell_type": "code",
   "execution_count": null,
   "metadata": {},
   "outputs": [
    {
     "name": "stdout",
     "output_type": "stream",
     "text": [
      "Number of times fidelity is found is 2\n"
     ]
    }
   ],
   "source": [
    "#Ques9\n",
    "import re\n",
    "\n",
    "count=0\n",
    "pattern=r\"fidelity\"\n",
    "with open(\"data2.txt\",\"r\") as f:\n",
    "    for i in f.readlines():\n",
    "        line=i.strip()\n",
    "        count+=len(re.findall(pattern,line))\n",
    "\n",
    "    print(f'Number of times fidelity is found is {count}')"
   ]
  }
 ],
 "metadata": {
  "kernelspec": {
   "display_name": "Python 3",
   "language": "python",
   "name": "python3"
  },
  "language_info": {
   "codemirror_mode": {
    "name": "ipython",
    "version": 3
   },
   "file_extension": ".py",
   "mimetype": "text/x-python",
   "name": "python",
   "nbconvert_exporter": "python",
   "pygments_lexer": "ipython3",
   "version": "3.12.1"
  }
 },
 "nbformat": 4,
 "nbformat_minor": 2
}
